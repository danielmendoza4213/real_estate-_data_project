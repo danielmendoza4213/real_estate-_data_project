{
 "metadata": {
  "language_info": {
   "codemirror_mode": {
    "name": "ipython",
    "version": 3
   },
   "file_extension": ".py",
   "mimetype": "text/x-python",
   "name": "python",
   "nbconvert_exporter": "python",
   "pygments_lexer": "ipython3",
   "version": "3.8.5-final"
  },
  "orig_nbformat": 2,
  "kernelspec": {
   "name": "python3",
   "display_name": "Python 3",
   "language": "python"
  }
 },
 "nbformat": 4,
 "nbformat_minor": 2,
 "cells": [
  {
   "cell_type": "code",
   "execution_count": 8,
   "metadata": {},
   "outputs": [],
   "source": [
    "links = [\n",
    "    \"https://www.immoweb.be/fr/annonce/maison/a-louer/woluwe-saint-pierre/1150/9131268?searchId=601146c9a750b\",\n",
    "    \"https://www.immoweb.be/fr/annonce/maison/a-vendre/erpent/5101/9140658?searchId=60130c640828e\",\n",
    "    \"https://www.immoweb.be/en/classified/apartment/for-sale/anderlecht/1070/9081505?searchId=6011b04a00f66\",\n",
    "    \"https://www.immoweb.be/en/classified/flat-studio/for-sale/forest/1190/9120080?searchId=6011b04a00f66\",\n",
    "    \"https://www.immoweb.be/en/classified/apartment/for-sale/roeselare/8800/9101632?searchId=6011b04a00f66\",\n",
    "    \"https://www.immoweb.be/en/classified/apartment/for-sale/gilly/6060/9074926?searchId=6011b04a00f66\",\n",
    "    \"https://www.immoweb.be/en/classified/apartment/for-sale/tohogne/6941/9027050?searchId=6011b04a00f66\",\n",
    "]"
   ]
  },
  {
   "cell_type": "code",
   "execution_count": 13,
   "metadata": {},
   "outputs": [
    {
     "output_type": "stream",
     "name": "stdout",
     "text": [
      "['annonce', 'maison', 'a-louer', 'woluwe-saint-pierre', '1150']\n['annonce', 'maison', 'a-vendre', 'erpent', '5101']\n['classified', 'apartment', 'for-sale', 'anderlecht', '1070']\n['classified', 'flat-studio', 'for-sale', 'forest', '1190']\n['classified', 'apartment', 'for-sale', 'roeselare', '8800']\n['classified', 'apartment', 'for-sale', 'gilly', '6060']\n['classified', 'apartment', 'for-sale', 'tohogne', '6941']\n"
     ]
    }
   ],
   "source": [
    "for i in links:\n",
    "    a=i.split(\"/\")\n",
    "    print(a[4:9])\n"
   ]
  },
  {
   "cell_type": "code",
   "execution_count": null,
   "metadata": {},
   "outputs": [],
   "source": []
  }
 ]
}